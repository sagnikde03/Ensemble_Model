{
  "cells": [
    {
      "cell_type": "code",
      "execution_count": null,
      "metadata": {
        "id": "YQqpsit8IP85"
      },
      "outputs": [],
      "source": [
        "import pandas as pd\n",
        "import numpy as np"
      ],
      "id": "YQqpsit8IP85"
    },
    {
      "cell_type": "code",
      "source": [
        "from google.colab import files\n",
        "uploaded = files.upload()"
      ],
      "metadata": {
        "colab": {
          "base_uri": "https://localhost:8080/",
          "height": 73
        },
        "id": "frJ1-5T8NW3T",
        "outputId": "85133a67-86e8-4479-86f1-72204a43180f"
      },
      "id": "frJ1-5T8NW3T",
      "execution_count": null,
      "outputs": [
        {
          "output_type": "display_data",
          "data": {
            "text/plain": [
              "<IPython.core.display.HTML object>"
            ],
            "text/html": [
              "\n",
              "     <input type=\"file\" id=\"files-6a2fd0cf-8498-4fef-95af-9c7fbf22ec4e\" name=\"files[]\" multiple disabled\n",
              "        style=\"border:none\" />\n",
              "     <output id=\"result-6a2fd0cf-8498-4fef-95af-9c7fbf22ec4e\">\n",
              "      Upload widget is only available when the cell has been executed in the\n",
              "      current browser session. Please rerun this cell to enable.\n",
              "      </output>\n",
              "      <script>// Copyright 2017 Google LLC\n",
              "//\n",
              "// Licensed under the Apache License, Version 2.0 (the \"License\");\n",
              "// you may not use this file except in compliance with the License.\n",
              "// You may obtain a copy of the License at\n",
              "//\n",
              "//      http://www.apache.org/licenses/LICENSE-2.0\n",
              "//\n",
              "// Unless required by applicable law or agreed to in writing, software\n",
              "// distributed under the License is distributed on an \"AS IS\" BASIS,\n",
              "// WITHOUT WARRANTIES OR CONDITIONS OF ANY KIND, either express or implied.\n",
              "// See the License for the specific language governing permissions and\n",
              "// limitations under the License.\n",
              "\n",
              "/**\n",
              " * @fileoverview Helpers for google.colab Python module.\n",
              " */\n",
              "(function(scope) {\n",
              "function span(text, styleAttributes = {}) {\n",
              "  const element = document.createElement('span');\n",
              "  element.textContent = text;\n",
              "  for (const key of Object.keys(styleAttributes)) {\n",
              "    element.style[key] = styleAttributes[key];\n",
              "  }\n",
              "  return element;\n",
              "}\n",
              "\n",
              "// Max number of bytes which will be uploaded at a time.\n",
              "const MAX_PAYLOAD_SIZE = 100 * 1024;\n",
              "\n",
              "function _uploadFiles(inputId, outputId) {\n",
              "  const steps = uploadFilesStep(inputId, outputId);\n",
              "  const outputElement = document.getElementById(outputId);\n",
              "  // Cache steps on the outputElement to make it available for the next call\n",
              "  // to uploadFilesContinue from Python.\n",
              "  outputElement.steps = steps;\n",
              "\n",
              "  return _uploadFilesContinue(outputId);\n",
              "}\n",
              "\n",
              "// This is roughly an async generator (not supported in the browser yet),\n",
              "// where there are multiple asynchronous steps and the Python side is going\n",
              "// to poll for completion of each step.\n",
              "// This uses a Promise to block the python side on completion of each step,\n",
              "// then passes the result of the previous step as the input to the next step.\n",
              "function _uploadFilesContinue(outputId) {\n",
              "  const outputElement = document.getElementById(outputId);\n",
              "  const steps = outputElement.steps;\n",
              "\n",
              "  const next = steps.next(outputElement.lastPromiseValue);\n",
              "  return Promise.resolve(next.value.promise).then((value) => {\n",
              "    // Cache the last promise value to make it available to the next\n",
              "    // step of the generator.\n",
              "    outputElement.lastPromiseValue = value;\n",
              "    return next.value.response;\n",
              "  });\n",
              "}\n",
              "\n",
              "/**\n",
              " * Generator function which is called between each async step of the upload\n",
              " * process.\n",
              " * @param {string} inputId Element ID of the input file picker element.\n",
              " * @param {string} outputId Element ID of the output display.\n",
              " * @return {!Iterable<!Object>} Iterable of next steps.\n",
              " */\n",
              "function* uploadFilesStep(inputId, outputId) {\n",
              "  const inputElement = document.getElementById(inputId);\n",
              "  inputElement.disabled = false;\n",
              "\n",
              "  const outputElement = document.getElementById(outputId);\n",
              "  outputElement.innerHTML = '';\n",
              "\n",
              "  const pickedPromise = new Promise((resolve) => {\n",
              "    inputElement.addEventListener('change', (e) => {\n",
              "      resolve(e.target.files);\n",
              "    });\n",
              "  });\n",
              "\n",
              "  const cancel = document.createElement('button');\n",
              "  inputElement.parentElement.appendChild(cancel);\n",
              "  cancel.textContent = 'Cancel upload';\n",
              "  const cancelPromise = new Promise((resolve) => {\n",
              "    cancel.onclick = () => {\n",
              "      resolve(null);\n",
              "    };\n",
              "  });\n",
              "\n",
              "  // Wait for the user to pick the files.\n",
              "  const files = yield {\n",
              "    promise: Promise.race([pickedPromise, cancelPromise]),\n",
              "    response: {\n",
              "      action: 'starting',\n",
              "    }\n",
              "  };\n",
              "\n",
              "  cancel.remove();\n",
              "\n",
              "  // Disable the input element since further picks are not allowed.\n",
              "  inputElement.disabled = true;\n",
              "\n",
              "  if (!files) {\n",
              "    return {\n",
              "      response: {\n",
              "        action: 'complete',\n",
              "      }\n",
              "    };\n",
              "  }\n",
              "\n",
              "  for (const file of files) {\n",
              "    const li = document.createElement('li');\n",
              "    li.append(span(file.name, {fontWeight: 'bold'}));\n",
              "    li.append(span(\n",
              "        `(${file.type || 'n/a'}) - ${file.size} bytes, ` +\n",
              "        `last modified: ${\n",
              "            file.lastModifiedDate ? file.lastModifiedDate.toLocaleDateString() :\n",
              "                                    'n/a'} - `));\n",
              "    const percent = span('0% done');\n",
              "    li.appendChild(percent);\n",
              "\n",
              "    outputElement.appendChild(li);\n",
              "\n",
              "    const fileDataPromise = new Promise((resolve) => {\n",
              "      const reader = new FileReader();\n",
              "      reader.onload = (e) => {\n",
              "        resolve(e.target.result);\n",
              "      };\n",
              "      reader.readAsArrayBuffer(file);\n",
              "    });\n",
              "    // Wait for the data to be ready.\n",
              "    let fileData = yield {\n",
              "      promise: fileDataPromise,\n",
              "      response: {\n",
              "        action: 'continue',\n",
              "      }\n",
              "    };\n",
              "\n",
              "    // Use a chunked sending to avoid message size limits. See b/62115660.\n",
              "    let position = 0;\n",
              "    do {\n",
              "      const length = Math.min(fileData.byteLength - position, MAX_PAYLOAD_SIZE);\n",
              "      const chunk = new Uint8Array(fileData, position, length);\n",
              "      position += length;\n",
              "\n",
              "      const base64 = btoa(String.fromCharCode.apply(null, chunk));\n",
              "      yield {\n",
              "        response: {\n",
              "          action: 'append',\n",
              "          file: file.name,\n",
              "          data: base64,\n",
              "        },\n",
              "      };\n",
              "\n",
              "      let percentDone = fileData.byteLength === 0 ?\n",
              "          100 :\n",
              "          Math.round((position / fileData.byteLength) * 100);\n",
              "      percent.textContent = `${percentDone}% done`;\n",
              "\n",
              "    } while (position < fileData.byteLength);\n",
              "  }\n",
              "\n",
              "  // All done.\n",
              "  yield {\n",
              "    response: {\n",
              "      action: 'complete',\n",
              "    }\n",
              "  };\n",
              "}\n",
              "\n",
              "scope.google = scope.google || {};\n",
              "scope.google.colab = scope.google.colab || {};\n",
              "scope.google.colab._files = {\n",
              "  _uploadFiles,\n",
              "  _uploadFilesContinue,\n",
              "};\n",
              "})(self);\n",
              "</script> "
            ]
          },
          "metadata": {}
        },
        {
          "output_type": "stream",
          "name": "stdout",
          "text": [
            "Saving ppg (1).csv to ppg (1).csv\n"
          ]
        }
      ]
    },
    {
      "cell_type": "code",
      "execution_count": null,
      "metadata": {
        "id": "6XLnxMobIP88"
      },
      "outputs": [],
      "source": [
        "dataset = pd.read_csv('ppg (1).csv')"
      ],
      "id": "6XLnxMobIP88"
    },
    {
      "cell_type": "code",
      "execution_count": null,
      "metadata": {
        "colab": {
          "base_uri": "https://localhost:8080/"
        },
        "id": "I9CG_4LmIP88",
        "outputId": "edc2c2d3-df7b-411e-a9af-57bc33a4316c"
      },
      "outputs": [
        {
          "output_type": "stream",
          "name": "stdout",
          "text": [
            "(218, 4)\n",
            "   161  89  97  Stage 2 hypertension\n",
            "0  160  93  76  Stage 2 hypertension\n",
            "1  101  71  79                Normal\n",
            "2  136  93  87       Prehypertension\n",
            "3  123  73  73       Prehypertension\n",
            "4  124  62  70       Prehypertension\n"
          ]
        }
      ],
      "source": [
        "print(dataset.shape)\n",
        "print(dataset.head(5))"
      ],
      "id": "I9CG_4LmIP88"
    },
    {
      "cell_type": "code",
      "execution_count": null,
      "metadata": {
        "colab": {
          "base_uri": "https://localhost:8080/"
        },
        "id": "aLaEkwBpIP89",
        "outputId": "f7ffd596-8db8-48ed-82ef-c2f2706f20d9"
      },
      "outputs": [
        {
          "output_type": "execute_result",
          "data": {
            "text/plain": [
              "array([[160,  93,  76],\n",
              "       [101,  71,  79],\n",
              "       [136,  93,  87],\n",
              "       [123,  73,  73],\n",
              "       [124,  62,  70],\n",
              "       [126,  78,  84],\n",
              "       [108,  73,  84],\n",
              "       [ 89,  42,  63],\n",
              "       [ 98,  56,  69],\n",
              "       [124,  85,  94],\n",
              "       [137,  80,  78],\n",
              "       [117,  70,  75],\n",
              "       [118,  71,  84],\n",
              "       [107,  63,  84],\n",
              "       [178,  86,  80],\n",
              "       [124,  75,  93],\n",
              "       [ 95,  57,  76],\n",
              "       [114,  65,  79],\n",
              "       [161,  89,  72],\n",
              "       [125,  75,  82],\n",
              "       [115,  64, 103],\n",
              "       [129,  81,  91],\n",
              "       [173,  90,  73],\n",
              "       [182, 102,  81],\n",
              "       [110,  64,  66],\n",
              "       [139,  85,  80],\n",
              "       [153,  72,  85],\n",
              "       [150,  96,  87],\n",
              "       [116,  56,  72],\n",
              "       [103,  65,  66],\n",
              "       [141,  72,  87],\n",
              "       [160,  77,  59],\n",
              "       [133,  76,  80],\n",
              "       [142,  90,  65],\n",
              "       [154,  88,  80],\n",
              "       [173, 107,  93],\n",
              "       [111,  62,  73],\n",
              "       [107,  63,  84],\n",
              "       [128,  66,  71],\n",
              "       [131,  88,  69],\n",
              "       [114,  75, 106],\n",
              "       [139,  84, 106],\n",
              "       [110,  63,  67],\n",
              "       [100,  54,  85],\n",
              "       [117,  74,  59],\n",
              "       [117,  74,  79],\n",
              "       [101,  63,  62],\n",
              "       [122,  73,  89],\n",
              "       [111,  76,  77],\n",
              "       [105,  70,  85],\n",
              "       [100,  63,  67],\n",
              "       [182,  80, 101],\n",
              "       [106,  53,  69],\n",
              "       [158,  89,  73],\n",
              "       [170,  87,  74],\n",
              "       [164,  73,  85],\n",
              "       [120,  69,  76],\n",
              "       [100,  55,  63],\n",
              "       [128,  77,  85],\n",
              "       [116,  58,  71],\n",
              "       [128,  76,  73],\n",
              "       [161,  95,  78],\n",
              "       [153,  71,  59],\n",
              "       [136,  71,  72],\n",
              "       [143,  65,  66],\n",
              "       [116,  65,  70],\n",
              "       [133,  71,  80],\n",
              "       [140,  82,  73],\n",
              "       [120,  60,  76],\n",
              "       [135,  75,  72],\n",
              "       [130,  66,  69],\n",
              "       [133,  77,  66],\n",
              "       [116,  66,  70],\n",
              "       [137,  65,  72],\n",
              "       [120,  63,  86],\n",
              "       [169,  76,  79],\n",
              "       [173, 100,  89],\n",
              "       [131,  79,  61],\n",
              "       [133,  73,  66],\n",
              "       [108,  66,  62],\n",
              "       [ 80,  48,  53],\n",
              "       [113,  67,  67],\n",
              "       [147,  85,  60],\n",
              "       [133,  72,  76],\n",
              "       [129,  64,  67],\n",
              "       [116,  60,  78],\n",
              "       [160,  77,  88],\n",
              "       [ 82,  53,  83],\n",
              "       [110,  63,  85],\n",
              "       [123,  68,  67],\n",
              "       [134,  58,  74],\n",
              "       [116,  61,  80],\n",
              "       [122,  65,  83],\n",
              "       [165,  86,  73],\n",
              "       [123,  56,  58],\n",
              "       [128,  64,  73],\n",
              "       [149,  71,  67],\n",
              "       [141,  67,  61],\n",
              "       [148,  69,  92],\n",
              "       [125,  62,  75],\n",
              "       [137,  84,  62],\n",
              "       [139,  71,  72],\n",
              "       [118,  55,  82],\n",
              "       [135,  84,  80],\n",
              "       [119,  64,  78],\n",
              "       [118,  68,  72],\n",
              "       [124,  79,  68],\n",
              "       [135,  63,  59],\n",
              "       [115,  71,  70],\n",
              "       [135,  69,  78],\n",
              "       [149,  70,  69],\n",
              "       [163,  63,  64],\n",
              "       [136,  68,  68],\n",
              "       [158,  88,  58],\n",
              "       [113,  67,  68],\n",
              "       [136,  64,  82],\n",
              "       [115,  62,  82],\n",
              "       [147,  70,  58],\n",
              "       [107,  73,  76],\n",
              "       [115,  75,  64],\n",
              "       [112,  68,  67],\n",
              "       [135,  89,  93],\n",
              "       [107,  60,  67],\n",
              "       [140,  72,  70],\n",
              "       [128,  73,  60],\n",
              "       [148,  88,  61],\n",
              "       [101,  70,  79],\n",
              "       [110,  63,  77],\n",
              "       [120,  63,  71],\n",
              "       [125,  74,  70],\n",
              "       [ 98,  59,  59],\n",
              "       [149,  84,  98],\n",
              "       [117,  82,  69],\n",
              "       [138,  69,  76],\n",
              "       [113,  55,  61],\n",
              "       [131,  72,  73],\n",
              "       [127,  78,  59],\n",
              "       [109,  64,  71],\n",
              "       [131,  74,  75],\n",
              "       [131,  71,  87],\n",
              "       [133,  53,  68],\n",
              "       [108,  59,  77],\n",
              "       [110,  75,  78],\n",
              "       [123,  75,  63],\n",
              "       [123,  78,  72],\n",
              "       [121,  78,  60],\n",
              "       [133,  68,  74],\n",
              "       [176,  80,  81],\n",
              "       [157,  94,  76],\n",
              "       [138,  66,  58],\n",
              "       [113,  62,  53],\n",
              "       [143,  77,  63],\n",
              "       [123,  62,  52],\n",
              "       [151,  82,  78],\n",
              "       [128,  71,  65],\n",
              "       [143,  79,  74],\n",
              "       [140,  87,  64],\n",
              "       [139,  69,  63],\n",
              "       [147,  79,  68],\n",
              "       [112,  69,  52],\n",
              "       [159,  86,  62],\n",
              "       [151,  91,  55],\n",
              "       [123,  61,  56],\n",
              "       [139,  75,  81],\n",
              "       [149, 101,  63],\n",
              "       [127,  83,  58],\n",
              "       [149,  78,  79],\n",
              "       [149,  92,  78],\n",
              "       [174, 104,  96],\n",
              "       [126,  81,  68],\n",
              "       [111,  65,  67],\n",
              "       [121,  73,  66],\n",
              "       [113,  60,  67],\n",
              "       [122,  77,  76],\n",
              "       [131,  74,  69],\n",
              "       [169,  90,  91],\n",
              "       [119,  62,  94],\n",
              "       [119,  61,  76],\n",
              "       [122,  69,  60],\n",
              "       [122,  62,  67],\n",
              "       [144,  70,  72],\n",
              "       [136,  76,  63],\n",
              "       [119,  65,  84],\n",
              "       [137,  74,  61],\n",
              "       [138,  93,  65],\n",
              "       [142,  65,  71],\n",
              "       [128,  79,  72],\n",
              "       [138,  69,  98],\n",
              "       [131,  72,  71],\n",
              "       [126,  65,  66],\n",
              "       [137,  80,  81],\n",
              "       [117,  68,  55],\n",
              "       [ 98,  59,  80],\n",
              "       [114,  71,  67],\n",
              "       [126,  63,  64],\n",
              "       [132,  62,  75],\n",
              "       [143,  82,  60],\n",
              "       [145,  82,  74],\n",
              "       [124,  70,  77],\n",
              "       [102,  57,  80],\n",
              "       [122,  70,  88],\n",
              "       [127,  65,  60],\n",
              "       [100,  71,  85],\n",
              "       [ 90,  59,  67],\n",
              "       [102,  55,  86],\n",
              "       [106,  63,  69],\n",
              "       [ 96,  67,  82],\n",
              "       [100,  63,  83],\n",
              "       [102,  66,  80],\n",
              "       [108,  65,  74],\n",
              "       [ 84,  56,  64],\n",
              "       [104,  70,  63],\n",
              "       [109,  68,  87],\n",
              "       [111,  70,  77],\n",
              "       [ 93,  57,  79],\n",
              "       [120,  69,  72],\n",
              "       [106,  69,  67],\n",
              "       [108,  68,  65]])"
            ]
          },
          "metadata": {},
          "execution_count": 9
        }
      ],
      "source": [
        "X = dataset.iloc[:, :-1].values\n",
        "X"
      ],
      "id": "aLaEkwBpIP89"
    },
    {
      "cell_type": "code",
      "execution_count": null,
      "metadata": {
        "colab": {
          "base_uri": "https://localhost:8080/"
        },
        "id": "TMDJCJlIIP8-",
        "outputId": "a98f07ae-0384-418a-a8f5-46049046ba1b"
      },
      "outputs": [
        {
          "output_type": "execute_result",
          "data": {
            "text/plain": [
              "array(['Stage 2 hypertension', 'Normal', 'Prehypertension',\n",
              "       'Prehypertension', 'Prehypertension', 'Prehypertension', 'Normal',\n",
              "       'Normal', 'Normal', 'Prehypertension', 'Prehypertension', 'Normal',\n",
              "       'Normal', 'Normal', 'Stage 2 hypertension', 'Prehypertension',\n",
              "       'Normal', 'Normal', 'Stage 2 hypertension', 'Prehypertension',\n",
              "       'Normal', 'Prehypertension', 'Stage 2 hypertension',\n",
              "       'Stage 2 hypertension', 'Normal', 'Prehypertension',\n",
              "       'Stage 1 hypertension', 'Stage 1 hypertension', 'Normal', 'Normal',\n",
              "       'Stage 1 hypertension', 'Stage 2 hypertension', 'Prehypertension',\n",
              "       'Stage 1 hypertension', 'Stage 1 hypertension',\n",
              "       'Stage 2 hypertension', 'Normal', 'Normal', 'Prehypertension',\n",
              "       'Prehypertension', 'Normal', 'Prehypertension', 'Normal', 'Normal',\n",
              "       'Normal', 'Normal', 'Normal', 'Prehypertension', 'Normal',\n",
              "       'Normal', 'Normal', 'Stage 2 hypertension', 'Normal',\n",
              "       'Stage 1 hypertension', 'Stage 2 hypertension',\n",
              "       'Stage 2 hypertension', 'Prehypertension', 'Normal',\n",
              "       'Prehypertension', 'Normal', 'Prehypertension',\n",
              "       'Stage 2 hypertension', 'Stage 1 hypertension', 'Prehypertension',\n",
              "       'Stage 1 hypertension', 'Normal', 'Prehypertension',\n",
              "       'Stage 1 hypertension', 'Prehypertension', 'Prehypertension',\n",
              "       'Prehypertension', 'Prehypertension', 'Normal', 'Prehypertension',\n",
              "       'Prehypertension', 'Stage 2 hypertension', 'Stage 2 hypertension',\n",
              "       'Prehypertension', 'Prehypertension', 'Normal', 'Normal', 'Normal',\n",
              "       'Stage 1 hypertension', 'Prehypertension', 'Prehypertension',\n",
              "       'Normal', 'Stage 2 hypertension', 'Normal', 'Normal',\n",
              "       'Prehypertension', 'Prehypertension', 'Normal', 'Prehypertension',\n",
              "       'Stage 2 hypertension', 'Prehypertension', 'Prehypertension',\n",
              "       'Stage 1 hypertension', 'Stage 1 hypertension',\n",
              "       'Stage 1 hypertension', 'Prehypertension', 'Prehypertension',\n",
              "       'Prehypertension', 'Normal', 'Prehypertension', 'Normal', 'Normal',\n",
              "       'Prehypertension', 'Prehypertension', 'Normal', 'Prehypertension',\n",
              "       'Stage 1 hypertension', 'Stage 2 hypertension', 'Prehypertension',\n",
              "       'Stage 1 hypertension', 'Normal', 'Prehypertension', 'Normal',\n",
              "       'Stage 1 hypertension', 'Normal', 'Normal', 'Normal',\n",
              "       'Prehypertension', 'Normal', 'Stage 1 hypertension',\n",
              "       'Prehypertension', 'Stage 1 hypertension', 'Normal', 'Normal',\n",
              "       'Prehypertension', 'Prehypertension', 'Normal',\n",
              "       'Stage 1 hypertension', 'Normal', 'Prehypertension', 'Normal',\n",
              "       'Prehypertension', 'Prehypertension', 'Normal', 'Prehypertension',\n",
              "       'Prehypertension', 'Prehypertension', 'Normal', 'Normal',\n",
              "       'Prehypertension', 'Prehypertension', 'Prehypertension',\n",
              "       'Prehypertension', 'Stage 2 hypertension', 'Stage 1 hypertension',\n",
              "       'Prehypertension', 'Normal', 'Stage 1 hypertension',\n",
              "       'Prehypertension', 'Stage 1 hypertension', 'Prehypertension',\n",
              "       'Stage 1 hypertension', 'Stage 1 hypertension', 'Prehypertension',\n",
              "       'Stage 1 hypertension', 'Normal', 'Stage 1 hypertension',\n",
              "       'Stage 1 hypertension', 'Prehypertension', 'Prehypertension',\n",
              "       'Stage 1 hypertension', 'Prehypertension', 'Stage 1 hypertension',\n",
              "       'Stage 1 hypertension', 'Stage 2 hypertension', 'Prehypertension',\n",
              "       'Normal', 'Prehypertension', 'Normal', 'Prehypertension',\n",
              "       'Prehypertension', 'Stage 2 hypertension', 'Normal', 'Normal',\n",
              "       'Prehypertension', 'Prehypertension', 'Stage 1 hypertension',\n",
              "       'Prehypertension', 'Normal', 'Prehypertension', 'Prehypertension',\n",
              "       'Stage 1 hypertension', 'Prehypertension', 'Prehypertension',\n",
              "       'Prehypertension', 'Prehypertension', 'Prehypertension', 'Normal',\n",
              "       'Normal', 'Normal', 'Prehypertension', 'Prehypertension',\n",
              "       'Stage 1 hypertension', 'Stage 1 hypertension', 'Prehypertension',\n",
              "       'Normal', 'Prehypertension', 'Prehypertension', 'Normal', 'Normal',\n",
              "       'Normal', 'Normal', 'Normal', 'Normal', 'Normal', 'Normal',\n",
              "       'Normal', 'Normal', 'Normal', 'Normal', 'Normal',\n",
              "       'Prehypertension', 'Normal', 'Normal'], dtype=object)"
            ]
          },
          "metadata": {},
          "execution_count": 10
        }
      ],
      "source": [
        "Y = dataset.iloc[:, -1].values\n",
        "Y"
      ],
      "id": "TMDJCJlIIP8-"
    },
    {
      "cell_type": "code",
      "execution_count": null,
      "metadata": {
        "id": "r1vEeDyTIP8-"
      },
      "outputs": [],
      "source": [
        "from sklearn.model_selection import train_test_split\n",
        "X_train, X_test, y_train, y_test = train_test_split(X, Y, test_size = 0.4,random_state =3)"
      ],
      "id": "r1vEeDyTIP8-"
    },
    {
      "cell_type": "code",
      "execution_count": null,
      "metadata": {
        "colab": {
          "base_uri": "https://localhost:8080/",
          "height": 74
        },
        "id": "xiQx8vMtIP8-",
        "outputId": "5de2359b-fc42-432f-e46c-6ee2529f203c"
      },
      "outputs": [
        {
          "output_type": "execute_result",
          "data": {
            "text/plain": [
              "DecisionTreeClassifier(criterion='entropy', max_depth=2, random_state=0)"
            ],
            "text/html": [
              "<style>#sk-container-id-1 {color: black;background-color: white;}#sk-container-id-1 pre{padding: 0;}#sk-container-id-1 div.sk-toggleable {background-color: white;}#sk-container-id-1 label.sk-toggleable__label {cursor: pointer;display: block;width: 100%;margin-bottom: 0;padding: 0.3em;box-sizing: border-box;text-align: center;}#sk-container-id-1 label.sk-toggleable__label-arrow:before {content: \"▸\";float: left;margin-right: 0.25em;color: #696969;}#sk-container-id-1 label.sk-toggleable__label-arrow:hover:before {color: black;}#sk-container-id-1 div.sk-estimator:hover label.sk-toggleable__label-arrow:before {color: black;}#sk-container-id-1 div.sk-toggleable__content {max-height: 0;max-width: 0;overflow: hidden;text-align: left;background-color: #f0f8ff;}#sk-container-id-1 div.sk-toggleable__content pre {margin: 0.2em;color: black;border-radius: 0.25em;background-color: #f0f8ff;}#sk-container-id-1 input.sk-toggleable__control:checked~div.sk-toggleable__content {max-height: 200px;max-width: 100%;overflow: auto;}#sk-container-id-1 input.sk-toggleable__control:checked~label.sk-toggleable__label-arrow:before {content: \"▾\";}#sk-container-id-1 div.sk-estimator input.sk-toggleable__control:checked~label.sk-toggleable__label {background-color: #d4ebff;}#sk-container-id-1 div.sk-label input.sk-toggleable__control:checked~label.sk-toggleable__label {background-color: #d4ebff;}#sk-container-id-1 input.sk-hidden--visually {border: 0;clip: rect(1px 1px 1px 1px);clip: rect(1px, 1px, 1px, 1px);height: 1px;margin: -1px;overflow: hidden;padding: 0;position: absolute;width: 1px;}#sk-container-id-1 div.sk-estimator {font-family: monospace;background-color: #f0f8ff;border: 1px dotted black;border-radius: 0.25em;box-sizing: border-box;margin-bottom: 0.5em;}#sk-container-id-1 div.sk-estimator:hover {background-color: #d4ebff;}#sk-container-id-1 div.sk-parallel-item::after {content: \"\";width: 100%;border-bottom: 1px solid gray;flex-grow: 1;}#sk-container-id-1 div.sk-label:hover label.sk-toggleable__label {background-color: #d4ebff;}#sk-container-id-1 div.sk-serial::before {content: \"\";position: absolute;border-left: 1px solid gray;box-sizing: border-box;top: 0;bottom: 0;left: 50%;z-index: 0;}#sk-container-id-1 div.sk-serial {display: flex;flex-direction: column;align-items: center;background-color: white;padding-right: 0.2em;padding-left: 0.2em;position: relative;}#sk-container-id-1 div.sk-item {position: relative;z-index: 1;}#sk-container-id-1 div.sk-parallel {display: flex;align-items: stretch;justify-content: center;background-color: white;position: relative;}#sk-container-id-1 div.sk-item::before, #sk-container-id-1 div.sk-parallel-item::before {content: \"\";position: absolute;border-left: 1px solid gray;box-sizing: border-box;top: 0;bottom: 0;left: 50%;z-index: -1;}#sk-container-id-1 div.sk-parallel-item {display: flex;flex-direction: column;z-index: 1;position: relative;background-color: white;}#sk-container-id-1 div.sk-parallel-item:first-child::after {align-self: flex-end;width: 50%;}#sk-container-id-1 div.sk-parallel-item:last-child::after {align-self: flex-start;width: 50%;}#sk-container-id-1 div.sk-parallel-item:only-child::after {width: 0;}#sk-container-id-1 div.sk-dashed-wrapped {border: 1px dashed gray;margin: 0 0.4em 0.5em 0.4em;box-sizing: border-box;padding-bottom: 0.4em;background-color: white;}#sk-container-id-1 div.sk-label label {font-family: monospace;font-weight: bold;display: inline-block;line-height: 1.2em;}#sk-container-id-1 div.sk-label-container {text-align: center;}#sk-container-id-1 div.sk-container {/* jupyter's `normalize.less` sets `[hidden] { display: none; }` but bootstrap.min.css set `[hidden] { display: none !important; }` so we also need the `!important` here to be able to override the default hidden behavior on the sphinx rendered scikit-learn.org. See: https://github.com/scikit-learn/scikit-learn/issues/21755 */display: inline-block !important;position: relative;}#sk-container-id-1 div.sk-text-repr-fallback {display: none;}</style><div id=\"sk-container-id-1\" class=\"sk-top-container\"><div class=\"sk-text-repr-fallback\"><pre>DecisionTreeClassifier(criterion=&#x27;entropy&#x27;, max_depth=2, random_state=0)</pre><b>In a Jupyter environment, please rerun this cell to show the HTML representation or trust the notebook. <br />On GitHub, the HTML representation is unable to render, please try loading this page with nbviewer.org.</b></div><div class=\"sk-container\" hidden><div class=\"sk-item\"><div class=\"sk-estimator sk-toggleable\"><input class=\"sk-toggleable__control sk-hidden--visually\" id=\"sk-estimator-id-1\" type=\"checkbox\" checked><label for=\"sk-estimator-id-1\" class=\"sk-toggleable__label sk-toggleable__label-arrow\">DecisionTreeClassifier</label><div class=\"sk-toggleable__content\"><pre>DecisionTreeClassifier(criterion=&#x27;entropy&#x27;, max_depth=2, random_state=0)</pre></div></div></div></div></div>"
            ]
          },
          "metadata": {},
          "execution_count": 12
        }
      ],
      "source": [
        "from sklearn.naive_bayes import GaussianNB\n",
        "model_1 = GaussianNB()\n",
        "model_1.fit(X_train, y_train)\n",
        "\n",
        "from sklearn.tree import DecisionTreeClassifier\n",
        "model_2 = DecisionTreeClassifier(criterion = 'entropy',max_depth = 2, random_state = 0)\n",
        "model_2.fit(X_train,y_train)\n"
      ],
      "id": "xiQx8vMtIP8-"
    },
    {
      "cell_type": "code",
      "execution_count": null,
      "metadata": {
        "colab": {
          "base_uri": "https://localhost:8080/",
          "height": 74
        },
        "id": "Y1UtDQxZIP8_",
        "outputId": "16717803-7307-4559-f4e9-01ec6ab76e52"
      },
      "outputs": [
        {
          "output_type": "execute_result",
          "data": {
            "text/plain": [
              "KNeighborsClassifier(n_neighbors=3)"
            ],
            "text/html": [
              "<style>#sk-container-id-2 {color: black;background-color: white;}#sk-container-id-2 pre{padding: 0;}#sk-container-id-2 div.sk-toggleable {background-color: white;}#sk-container-id-2 label.sk-toggleable__label {cursor: pointer;display: block;width: 100%;margin-bottom: 0;padding: 0.3em;box-sizing: border-box;text-align: center;}#sk-container-id-2 label.sk-toggleable__label-arrow:before {content: \"▸\";float: left;margin-right: 0.25em;color: #696969;}#sk-container-id-2 label.sk-toggleable__label-arrow:hover:before {color: black;}#sk-container-id-2 div.sk-estimator:hover label.sk-toggleable__label-arrow:before {color: black;}#sk-container-id-2 div.sk-toggleable__content {max-height: 0;max-width: 0;overflow: hidden;text-align: left;background-color: #f0f8ff;}#sk-container-id-2 div.sk-toggleable__content pre {margin: 0.2em;color: black;border-radius: 0.25em;background-color: #f0f8ff;}#sk-container-id-2 input.sk-toggleable__control:checked~div.sk-toggleable__content {max-height: 200px;max-width: 100%;overflow: auto;}#sk-container-id-2 input.sk-toggleable__control:checked~label.sk-toggleable__label-arrow:before {content: \"▾\";}#sk-container-id-2 div.sk-estimator input.sk-toggleable__control:checked~label.sk-toggleable__label {background-color: #d4ebff;}#sk-container-id-2 div.sk-label input.sk-toggleable__control:checked~label.sk-toggleable__label {background-color: #d4ebff;}#sk-container-id-2 input.sk-hidden--visually {border: 0;clip: rect(1px 1px 1px 1px);clip: rect(1px, 1px, 1px, 1px);height: 1px;margin: -1px;overflow: hidden;padding: 0;position: absolute;width: 1px;}#sk-container-id-2 div.sk-estimator {font-family: monospace;background-color: #f0f8ff;border: 1px dotted black;border-radius: 0.25em;box-sizing: border-box;margin-bottom: 0.5em;}#sk-container-id-2 div.sk-estimator:hover {background-color: #d4ebff;}#sk-container-id-2 div.sk-parallel-item::after {content: \"\";width: 100%;border-bottom: 1px solid gray;flex-grow: 1;}#sk-container-id-2 div.sk-label:hover label.sk-toggleable__label {background-color: #d4ebff;}#sk-container-id-2 div.sk-serial::before {content: \"\";position: absolute;border-left: 1px solid gray;box-sizing: border-box;top: 0;bottom: 0;left: 50%;z-index: 0;}#sk-container-id-2 div.sk-serial {display: flex;flex-direction: column;align-items: center;background-color: white;padding-right: 0.2em;padding-left: 0.2em;position: relative;}#sk-container-id-2 div.sk-item {position: relative;z-index: 1;}#sk-container-id-2 div.sk-parallel {display: flex;align-items: stretch;justify-content: center;background-color: white;position: relative;}#sk-container-id-2 div.sk-item::before, #sk-container-id-2 div.sk-parallel-item::before {content: \"\";position: absolute;border-left: 1px solid gray;box-sizing: border-box;top: 0;bottom: 0;left: 50%;z-index: -1;}#sk-container-id-2 div.sk-parallel-item {display: flex;flex-direction: column;z-index: 1;position: relative;background-color: white;}#sk-container-id-2 div.sk-parallel-item:first-child::after {align-self: flex-end;width: 50%;}#sk-container-id-2 div.sk-parallel-item:last-child::after {align-self: flex-start;width: 50%;}#sk-container-id-2 div.sk-parallel-item:only-child::after {width: 0;}#sk-container-id-2 div.sk-dashed-wrapped {border: 1px dashed gray;margin: 0 0.4em 0.5em 0.4em;box-sizing: border-box;padding-bottom: 0.4em;background-color: white;}#sk-container-id-2 div.sk-label label {font-family: monospace;font-weight: bold;display: inline-block;line-height: 1.2em;}#sk-container-id-2 div.sk-label-container {text-align: center;}#sk-container-id-2 div.sk-container {/* jupyter's `normalize.less` sets `[hidden] { display: none; }` but bootstrap.min.css set `[hidden] { display: none !important; }` so we also need the `!important` here to be able to override the default hidden behavior on the sphinx rendered scikit-learn.org. See: https://github.com/scikit-learn/scikit-learn/issues/21755 */display: inline-block !important;position: relative;}#sk-container-id-2 div.sk-text-repr-fallback {display: none;}</style><div id=\"sk-container-id-2\" class=\"sk-top-container\"><div class=\"sk-text-repr-fallback\"><pre>KNeighborsClassifier(n_neighbors=3)</pre><b>In a Jupyter environment, please rerun this cell to show the HTML representation or trust the notebook. <br />On GitHub, the HTML representation is unable to render, please try loading this page with nbviewer.org.</b></div><div class=\"sk-container\" hidden><div class=\"sk-item\"><div class=\"sk-estimator sk-toggleable\"><input class=\"sk-toggleable__control sk-hidden--visually\" id=\"sk-estimator-id-2\" type=\"checkbox\" checked><label for=\"sk-estimator-id-2\" class=\"sk-toggleable__label sk-toggleable__label-arrow\">KNeighborsClassifier</label><div class=\"sk-toggleable__content\"><pre>KNeighborsClassifier(n_neighbors=3)</pre></div></div></div></div></div>"
            ]
          },
          "metadata": {},
          "execution_count": 13
        }
      ],
      "source": [
        "from sklearn.neighbors import KNeighborsClassifier\n",
        "model_3 = KNeighborsClassifier(n_neighbors = 3, metric = 'minkowski', p = 2)\n",
        "model_3.fit(X_train, y_train)"
      ],
      "id": "Y1UtDQxZIP8_"
    },
    {
      "cell_type": "code",
      "execution_count": null,
      "metadata": {
        "colab": {
          "base_uri": "https://localhost:8080/",
          "height": 74
        },
        "id": "HuxSSYYyIP8_",
        "outputId": "633d2394-cafb-4220-f3d2-d30f7519e326"
      },
      "outputs": [
        {
          "output_type": "execute_result",
          "data": {
            "text/plain": [
              "SVC()"
            ],
            "text/html": [
              "<style>#sk-container-id-3 {color: black;background-color: white;}#sk-container-id-3 pre{padding: 0;}#sk-container-id-3 div.sk-toggleable {background-color: white;}#sk-container-id-3 label.sk-toggleable__label {cursor: pointer;display: block;width: 100%;margin-bottom: 0;padding: 0.3em;box-sizing: border-box;text-align: center;}#sk-container-id-3 label.sk-toggleable__label-arrow:before {content: \"▸\";float: left;margin-right: 0.25em;color: #696969;}#sk-container-id-3 label.sk-toggleable__label-arrow:hover:before {color: black;}#sk-container-id-3 div.sk-estimator:hover label.sk-toggleable__label-arrow:before {color: black;}#sk-container-id-3 div.sk-toggleable__content {max-height: 0;max-width: 0;overflow: hidden;text-align: left;background-color: #f0f8ff;}#sk-container-id-3 div.sk-toggleable__content pre {margin: 0.2em;color: black;border-radius: 0.25em;background-color: #f0f8ff;}#sk-container-id-3 input.sk-toggleable__control:checked~div.sk-toggleable__content {max-height: 200px;max-width: 100%;overflow: auto;}#sk-container-id-3 input.sk-toggleable__control:checked~label.sk-toggleable__label-arrow:before {content: \"▾\";}#sk-container-id-3 div.sk-estimator input.sk-toggleable__control:checked~label.sk-toggleable__label {background-color: #d4ebff;}#sk-container-id-3 div.sk-label input.sk-toggleable__control:checked~label.sk-toggleable__label {background-color: #d4ebff;}#sk-container-id-3 input.sk-hidden--visually {border: 0;clip: rect(1px 1px 1px 1px);clip: rect(1px, 1px, 1px, 1px);height: 1px;margin: -1px;overflow: hidden;padding: 0;position: absolute;width: 1px;}#sk-container-id-3 div.sk-estimator {font-family: monospace;background-color: #f0f8ff;border: 1px dotted black;border-radius: 0.25em;box-sizing: border-box;margin-bottom: 0.5em;}#sk-container-id-3 div.sk-estimator:hover {background-color: #d4ebff;}#sk-container-id-3 div.sk-parallel-item::after {content: \"\";width: 100%;border-bottom: 1px solid gray;flex-grow: 1;}#sk-container-id-3 div.sk-label:hover label.sk-toggleable__label {background-color: #d4ebff;}#sk-container-id-3 div.sk-serial::before {content: \"\";position: absolute;border-left: 1px solid gray;box-sizing: border-box;top: 0;bottom: 0;left: 50%;z-index: 0;}#sk-container-id-3 div.sk-serial {display: flex;flex-direction: column;align-items: center;background-color: white;padding-right: 0.2em;padding-left: 0.2em;position: relative;}#sk-container-id-3 div.sk-item {position: relative;z-index: 1;}#sk-container-id-3 div.sk-parallel {display: flex;align-items: stretch;justify-content: center;background-color: white;position: relative;}#sk-container-id-3 div.sk-item::before, #sk-container-id-3 div.sk-parallel-item::before {content: \"\";position: absolute;border-left: 1px solid gray;box-sizing: border-box;top: 0;bottom: 0;left: 50%;z-index: -1;}#sk-container-id-3 div.sk-parallel-item {display: flex;flex-direction: column;z-index: 1;position: relative;background-color: white;}#sk-container-id-3 div.sk-parallel-item:first-child::after {align-self: flex-end;width: 50%;}#sk-container-id-3 div.sk-parallel-item:last-child::after {align-self: flex-start;width: 50%;}#sk-container-id-3 div.sk-parallel-item:only-child::after {width: 0;}#sk-container-id-3 div.sk-dashed-wrapped {border: 1px dashed gray;margin: 0 0.4em 0.5em 0.4em;box-sizing: border-box;padding-bottom: 0.4em;background-color: white;}#sk-container-id-3 div.sk-label label {font-family: monospace;font-weight: bold;display: inline-block;line-height: 1.2em;}#sk-container-id-3 div.sk-label-container {text-align: center;}#sk-container-id-3 div.sk-container {/* jupyter's `normalize.less` sets `[hidden] { display: none; }` but bootstrap.min.css set `[hidden] { display: none !important; }` so we also need the `!important` here to be able to override the default hidden behavior on the sphinx rendered scikit-learn.org. See: https://github.com/scikit-learn/scikit-learn/issues/21755 */display: inline-block !important;position: relative;}#sk-container-id-3 div.sk-text-repr-fallback {display: none;}</style><div id=\"sk-container-id-3\" class=\"sk-top-container\"><div class=\"sk-text-repr-fallback\"><pre>SVC()</pre><b>In a Jupyter environment, please rerun this cell to show the HTML representation or trust the notebook. <br />On GitHub, the HTML representation is unable to render, please try loading this page with nbviewer.org.</b></div><div class=\"sk-container\" hidden><div class=\"sk-item\"><div class=\"sk-estimator sk-toggleable\"><input class=\"sk-toggleable__control sk-hidden--visually\" id=\"sk-estimator-id-3\" type=\"checkbox\" checked><label for=\"sk-estimator-id-3\" class=\"sk-toggleable__label sk-toggleable__label-arrow\">SVC</label><div class=\"sk-toggleable__content\"><pre>SVC()</pre></div></div></div></div></div>"
            ]
          },
          "metadata": {},
          "execution_count": 14
        }
      ],
      "source": [
        "from sklearn import svm\n",
        "model_4 = svm.SVC(kernel=\"rbf\")\n",
        "# model =svm.SVC(kernel=\"rbf\")\n",
        "model_4.fit(X_train,y_train)\n",
        "svm.SVC()"
      ],
      "id": "HuxSSYYyIP8_"
    },
    {
      "cell_type": "code",
      "execution_count": null,
      "metadata": {
        "id": "NBcGBg5eIP9A"
      },
      "outputs": [],
      "source": [
        "y_pred_1 = model_1.predict(X_test)\n",
        "\n",
        "y_pred_2 = model_2.predict(X_test)\n",
        "\n",
        "y_pred_3 = model_3.predict(X_test)\n",
        "\n",
        "y_pred_4 = model_4.predict(X_test)"
      ],
      "id": "NBcGBg5eIP9A"
    },
    {
      "cell_type": "code",
      "execution_count": null,
      "metadata": {
        "colab": {
          "base_uri": "https://localhost:8080/"
        },
        "id": "WsdBTnNJIP9A",
        "outputId": "c2134fa9-cee6-4ddd-ff15-e4201aa320ce"
      },
      "outputs": [
        {
          "output_type": "stream",
          "name": "stdout",
          "text": [
            "Accuracy of the Model Naive Bayes: 92.04545454545455%\n",
            "Accuracy of the Model DT: 89.77272727272727%\n",
            "Accuracy of the Model KNN: 86.36363636363636%\n",
            "Accuracy of the Model SVM: 88.63636363636364%\n"
          ]
        }
      ],
      "source": [
        "from sklearn.metrics import accuracy_score\n",
        "print(\"Accuracy of the Model Naive Bayes: {0}%\".format(accuracy_score(y_test, y_pred_1)*100))\n",
        "from sklearn.metrics import accuracy_score\n",
        "print(\"Accuracy of the Model DT: {0}%\".format(accuracy_score(y_test, y_pred_2)*100))\n",
        "from sklearn.metrics import accuracy_score\n",
        "print(\"Accuracy of the Model KNN: {0}%\".format(accuracy_score(y_test, y_pred_3)*100))\n",
        "from sklearn.metrics import accuracy_score\n",
        "print(\"Accuracy of the Model SVM: {0}%\".format(accuracy_score(y_test, y_pred_4)*100))"
      ],
      "id": "WsdBTnNJIP9A"
    },
    {
      "cell_type": "code",
      "execution_count": null,
      "metadata": {
        "colab": {
          "base_uri": "https://localhost:8080/"
        },
        "id": "MpmM9CzsIP9A",
        "outputId": "aab21e2d-effb-45ff-a57c-73e41b551487"
      },
      "outputs": [
        {
          "output_type": "stream",
          "name": "stdout",
          "text": [
            "Confusion Matrix:Naive Bayes \n",
            "confusion matrix [[24  1  0  0]\n",
            " [ 2 39  2  0]\n",
            " [ 0  0 11  0]\n",
            " [ 0  0  2  7]] accuracy 0.9204545454545454\n",
            "                      precision    recall  f1-score   support\n",
            "\n",
            "              Normal       0.92      0.96      0.94        25\n",
            "     Prehypertension       0.97      0.91      0.94        43\n",
            "Stage 1 hypertension       0.73      1.00      0.85        11\n",
            "Stage 2 hypertension       1.00      0.78      0.88         9\n",
            "\n",
            "            accuracy                           0.92        88\n",
            "           macro avg       0.91      0.91      0.90        88\n",
            "        weighted avg       0.93      0.92      0.92        88\n",
            "\n",
            ".......................................................\n",
            "Confusion Matrix:knn \n",
            "confusion matrix [[25  0  0  0]\n",
            " [ 0 43  0  0]\n",
            " [ 0  0 11  0]\n",
            " [ 0  0  9  0]] accuracy 0.8977272727272727\n",
            "                      precision    recall  f1-score   support\n",
            "\n",
            "              Normal       1.00      1.00      1.00        25\n",
            "     Prehypertension       1.00      1.00      1.00        43\n",
            "Stage 1 hypertension       0.55      1.00      0.71        11\n",
            "Stage 2 hypertension       0.00      0.00      0.00         9\n",
            "\n",
            "            accuracy                           0.90        88\n",
            "           macro avg       0.64      0.75      0.68        88\n",
            "        weighted avg       0.84      0.90      0.86        88\n",
            "\n",
            ".......................................................\n",
            "Confusion Matrix:LR \n",
            "confusion matrix [[24  1  0  0]\n",
            " [ 4 36  3  0]\n",
            " [ 0  1 10  0]\n",
            " [ 0  0  3  6]] accuracy 0.8636363636363636\n",
            "                      precision    recall  f1-score   support\n",
            "\n",
            "              Normal       0.86      0.96      0.91        25\n",
            "     Prehypertension       0.95      0.84      0.89        43\n",
            "Stage 1 hypertension       0.62      0.91      0.74        11\n",
            "Stage 2 hypertension       1.00      0.67      0.80         9\n",
            "\n",
            "            accuracy                           0.86        88\n",
            "           macro avg       0.86      0.84      0.83        88\n",
            "        weighted avg       0.89      0.86      0.87        88\n",
            "\n"
          ]
        },
        {
          "output_type": "stream",
          "name": "stderr",
          "text": [
            "/usr/local/lib/python3.10/dist-packages/sklearn/metrics/_classification.py:1344: UndefinedMetricWarning: Precision and F-score are ill-defined and being set to 0.0 in labels with no predicted samples. Use `zero_division` parameter to control this behavior.\n",
            "  _warn_prf(average, modifier, msg_start, len(result))\n",
            "/usr/local/lib/python3.10/dist-packages/sklearn/metrics/_classification.py:1344: UndefinedMetricWarning: Precision and F-score are ill-defined and being set to 0.0 in labels with no predicted samples. Use `zero_division` parameter to control this behavior.\n",
            "  _warn_prf(average, modifier, msg_start, len(result))\n",
            "/usr/local/lib/python3.10/dist-packages/sklearn/metrics/_classification.py:1344: UndefinedMetricWarning: Precision and F-score are ill-defined and being set to 0.0 in labels with no predicted samples. Use `zero_division` parameter to control this behavior.\n",
            "  _warn_prf(average, modifier, msg_start, len(result))\n"
          ]
        }
      ],
      "source": [
        "from sklearn.metrics import confusion_matrix, accuracy_score, classification_report\n",
        "cm = confusion_matrix(y_test, y_pred_1)\n",
        "cm1 = confusion_matrix(y_test, y_pred_2)\n",
        "cm2 = confusion_matrix(y_test, y_pred_3)\n",
        "print(\"Confusion Matrix:Naive Bayes \")\n",
        "print(\"confusion matrix\", cm, \"accuracy\", accuracy_score(y_test,y_pred_1))\n",
        "print(classification_report(y_test,y_pred_1))\n",
        "print(\".......................................................\")\n",
        "print(\"Confusion Matrix:knn \")\n",
        "print(\"confusion matrix\", cm1, \"accuracy\", accuracy_score(y_test,y_pred_2))\n",
        "print(classification_report(y_test,y_pred_2))\n",
        "print(\".......................................................\")\n",
        "print(\"Confusion Matrix:LR \")\n",
        "print(\"confusion matrix\", cm2, \"accuracy\", accuracy_score(y_test,y_pred_3))\n",
        "print(classification_report(y_test,y_pred_3))"
      ],
      "id": "MpmM9CzsIP9A"
    },
    {
      "cell_type": "code",
      "execution_count": null,
      "metadata": {
        "id": "GzpmVbDsIP9B"
      },
      "outputs": [],
      "source": [
        "aa=list(y_pred_1)  # predictions are in nd.array . i am converting them into list for my convenience\n",
        "bb=list(y_pred_2)\n",
        "cc=list(y_pred_3)"
      ],
      "id": "GzpmVbDsIP9B"
    },
    {
      "cell_type": "code",
      "execution_count": null,
      "metadata": {
        "id": "usViIZ2HIP9B"
      },
      "outputs": [],
      "source": [],
      "id": "usViIZ2HIP9B"
    },
    {
      "cell_type": "code",
      "execution_count": null,
      "metadata": {
        "id": "sbECFUDYIP9B"
      },
      "outputs": [],
      "source": [],
      "id": "sbECFUDYIP9B"
    },
    {
      "cell_type": "code",
      "execution_count": null,
      "metadata": {
        "colab": {
          "base_uri": "https://localhost:8080/",
          "height": 472
        },
        "id": "NNimHeXAIP9B",
        "outputId": "a3f12bc0-54fc-416d-876d-bbc510afb3d8"
      },
      "outputs": [
        {
          "output_type": "display_data",
          "data": {
            "text/plain": [
              "<Figure size 640x480 with 1 Axes>"
            ],
            "image/png": "[encoded data removed]"
          },
          "metadata": {}
        }
      ],
      "source": [
        "# modified result\n",
        "import matplotlib.pyplot as prithwi\n",
        "prithwi.bar([\"Naive Bayes\",\"Descision Tree\", \"KNN\", \" ENSEMBLE MODEL\"],[92.04,89.7,88.63, 93.2])\n",
        "\n",
        "prithwi.xlabel(\"Machine Learning Algorithms\")\n",
        "prithwi.ylabel(\"Accuracy %\")\n",
        "prithwi.title(\"This is a plot of Accuracy Comparison\")\n",
        "prithwi.grid()"
      ],
      "id": "NNimHeXAIP9B"
    },
    {
      "cell_type": "code",
      "execution_count": null,
      "metadata": {
        "colab": {
          "base_uri": "https://localhost:8080/"
        },
        "id": "ZTEenjOTIP9B",
        "outputId": "3e1d4884-ca94-4d5e-b7f3-201db0086e7c"
      },
      "outputs": [
        {
          "output_type": "stream",
          "name": "stdout",
          "text": [
            "predcted values:['Stage 1 hypertension', 'Prehypertension', 'Prehypertension', 'Stage 1 hypertension', 'Normal', 'Normal', 'Normal', 'Stage 2 hypertension', 'Stage 1 hypertension', 'Prehypertension', 'Prehypertension', 'Normal', 'Prehypertension', 'Stage 1 hypertension', 'Prehypertension', 'Prehypertension', 'Normal', 'Stage 1 hypertension', 'Prehypertension', 'Prehypertension', 'Normal', 'Prehypertension', 'Prehypertension', 'Prehypertension', 'Prehypertension', 'Prehypertension', 'Prehypertension', 'Prehypertension', 'Stage 2 hypertension', 'Stage 1 hypertension', 'Prehypertension', 'Normal', 'Stage 1 hypertension', 'Prehypertension', 'Normal', 'Normal', 'Normal', 'Normal', 'Prehypertension', 'Normal', 'Prehypertension', 'Normal', 'Prehypertension', 'Prehypertension', 'Normal', 'Prehypertension', 'Prehypertension', 'Stage 1 hypertension', 'Prehypertension', 'Normal', 'Stage 2 hypertension', 'Prehypertension', 'Prehypertension', 'Stage 2 hypertension', 'Prehypertension', 'Prehypertension', 'Prehypertension', 'Stage 2 hypertension', 'Stage 1 hypertension', 'Stage 1 hypertension', 'Prehypertension', 'Prehypertension', 'Prehypertension', 'Normal', 'Normal', 'Normal', 'Stage 1 hypertension', 'Stage 2 hypertension', 'Normal', 'Prehypertension', 'Normal', 'Prehypertension', 'Normal', 'Normal', 'Prehypertension', 'Prehypertension', 'Stage 1 hypertension', 'Normal', 'Normal', 'Prehypertension', 'Prehypertension', 'Prehypertension', 'Normal', 'Stage 1 hypertension', 'Prehypertension', 'Stage 1 hypertension', 'Normal', 'Prehypertension'] \n"
          ]
        }
      ],
      "source": [
        "a=aa  # prediction of naive bayes\n",
        "b=bb    # prediction of KNN\n",
        "c=cc   # prediction of LR\n",
        "d=[] # predicted output by ensemble classifier ( initially starting with a null list)\n",
        "for i in range(0,len(a)):\n",
        "    testlist=[]\n",
        "    ## weight of   naive bayes descison * 3  , Descision tree is 2, and Knn is 2\n",
        "    testlist.append(a[i])\n",
        "    testlist.append(a[i])\n",
        "    testlist.append(a[i])\n",
        "    testlist.append(b[i])\n",
        "    testlist.append(b[i])\n",
        "    testlist.append(c[i])\n",
        "    testlist.append(c[i])\n",
        "    #print(testlist)\n",
        "################################ change it\n",
        "    normal=testlist.count('Normal')\n",
        "    prehy = testlist.count('Prehypertension')\n",
        "    st1hy = testlist.count('Stage 1 hypertension')\n",
        "    st2hy = testlist.count('Stage 2 hypertension')\n",
        "\n",
        "    if normal> prehy and normal>st1hy and normal> st2hy:\n",
        "        d.append('Normal')\n",
        "    elif prehy> normal and prehy>st1hy and prehy> st2hy:\n",
        "        d.append('Prehypertension')\n",
        "    elif st1hy> normal and st1hy>prehy and st1hy> st2hy:\n",
        "        d.append('Stage 1 hypertension')\n",
        "    elif st2hy> normal and st2hy>st1hy and st2hy> prehy:\n",
        "        d.append('Stage 2 hypertension')\n",
        "    else:\n",
        "        d.append(a[i])\n",
        "\n",
        "print(\"predcted values:{0} \".format(d))"
      ],
      "id": "ZTEenjOTIP9B"
    },
    {
      "cell_type": "code",
      "execution_count": null,
      "metadata": {
        "colab": {
          "base_uri": "https://localhost:8080/"
        },
        "id": "vaXFvJiGIP9C",
        "outputId": "ab1fbffd-3a36-40ea-dd48-6513fd8065a2"
      },
      "outputs": [
        {
          "output_type": "stream",
          "name": "stdout",
          "text": [
            "*******************report for ensemble model*****************\n",
            "Confusion Matrix:ENSEMBLE MODEL \n",
            "confusion matrix [[24  1  0  0]\n",
            " [ 2 41  0  0]\n",
            " [ 0  0 11  0]\n",
            " [ 0  0  3  6]]\n",
            "accuracy 0.9318181818181818\n",
            "                      precision    recall  f1-score   support\n",
            "\n",
            "              Normal       0.92      0.96      0.94        25\n",
            "     Prehypertension       0.98      0.95      0.96        43\n",
            "Stage 1 hypertension       0.79      1.00      0.88        11\n",
            "Stage 2 hypertension       1.00      0.67      0.80         9\n",
            "\n",
            "            accuracy                           0.93        88\n",
            "           macro avg       0.92      0.90      0.90        88\n",
            "        weighted avg       0.94      0.93      0.93        88\n",
            "\n"
          ]
        }
      ],
      "source": [
        "print(\"*******************report for ensemble model*****************\")\n",
        "cm4=confusion_matrix(list(y_test), d)\n",
        "\n",
        "\n",
        "print(\"Confusion Matrix:ENSEMBLE MODEL \")\n",
        "print(\"confusion matrix\", cm4)\n",
        "print(\"accuracy\", accuracy_score(list(y_test), d))\n",
        "print(classification_report(list(y_test), d))"
      ],
      "id": "vaXFvJiGIP9C"
    },
    {
      "cell_type": "code",
      "execution_count": null,
      "metadata": {
        "id": "WPzHwPXPIP9C"
      },
      "outputs": [],
      "source": [],
      "id": "WPzHwPXPIP9C"
    },
    {
      "cell_type": "code",
      "execution_count": null,
      "metadata": {
        "id": "zE6dJtCzIP9C"
      },
      "outputs": [],
      "source": [],
      "id": "zE6dJtCzIP9C"
    }
  ],
  "metadata": {
    "kernelspec": {
      "display_name": "Python 3",
      "language": "python",
      "name": "python3"
    },
    "language_info": {
      "codemirror_mode": {
        "name": "ipython",
        "version": 3
      },
      "file_extension": ".py",
      "mimetype": "text/x-python",
      "name": "python",
      "nbconvert_exporter": "python",
      "pygments_lexer": "ipython3",
      "version": "3.6.5"
    },
    "colab": {
      "provenance": []
    }
  },
  "nbformat": 4,
  "nbformat_minor": 5
}