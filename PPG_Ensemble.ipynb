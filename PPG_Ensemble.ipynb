{
 "cells": [
  {
   "cell_type": "code",
   "execution_count": 2,
   "id": "6f9e4dfa",
   "metadata": {},
   "outputs": [],
   "source": [
    "import pandas as pd\n",
    "import numpy as np"
   ]
  },
  {
   "cell_type": "code",
   "execution_count": 3,
   "id": "726e2e5f",
   "metadata": {},
   "outputs": [],
   "source": [
    "dataset = pd.read_csv('ppg.csv')"
   ]
  },
  {
   "cell_type": "code",
   "execution_count": 4,
   "id": "76aef80d",
   "metadata": {},
   "outputs": [
    {
     "name": "stdout",
     "output_type": "stream",
     "text": [
      "(218, 4)\n",
      "   161  89  97  Stage 2 hypertension\n",
      "0  160  93  76  Stage 2 hypertension\n",
      "1  101  71  79                Normal\n",
      "2  136  93  87       Prehypertension\n",
      "3  123  73  73       Prehypertension\n",
      "4  124  62  70       Prehypertension\n"
     ]
    }
   ],
   "source": [
    "print(dataset.shape)\n",
    "print(dataset.head(5))"
   ]
  },
  {
   "cell_type": "code",
   "execution_count": 5,
   "id": "b52107d8",
   "metadata": {},
   "outputs": [
    {
     "data": {
      "text/plain": [
       "array([[160,  93,  76],\n",
       "       [101,  71,  79],\n",
       "       [136,  93,  87],\n",
       "       [123,  73,  73],\n",
       "       [124,  62,  70],\n",
       "       [126,  78,  84],\n",
       "       [108,  73,  84],\n",
       "       [ 89,  42,  63],\n",
       "       [ 98,  56,  69],\n",
       "       [124,  85,  94],\n",
       "       [137,  80,  78],\n",
       "       [117,  70,  75],\n",
       "       [118,  71,  84],\n",
       "       [107,  63,  84],\n",
       "       [178,  86,  80],\n",
       "       [124,  75,  93],\n",
       "       [ 95,  57,  76],\n",
       "       [114,  65,  79],\n",
       "       [161,  89,  72],\n",
       "       [125,  75,  82],\n",
       "       [115,  64, 103],\n",
       "       [129,  81,  91],\n",
       "       [173,  90,  73],\n",
       "       [182, 102,  81],\n",
       "       [110,  64,  66],\n",
       "       [139,  85,  80],\n",
       "       [153,  72,  85],\n",
       "       [150,  96,  87],\n",
       "       [116,  56,  72],\n",
       "       [103,  65,  66],\n",
       "       [141,  72,  87],\n",
       "       [160,  77,  59],\n",
       "       [133,  76,  80],\n",
       "       [142,  90,  65],\n",
       "       [154,  88,  80],\n",
       "       [173, 107,  93],\n",
       "       [111,  62,  73],\n",
       "       [107,  63,  84],\n",
       "       [128,  66,  71],\n",
       "       [131,  88,  69],\n",
       "       [114,  75, 106],\n",
       "       [139,  84, 106],\n",
       "       [110,  63,  67],\n",
       "       [100,  54,  85],\n",
       "       [117,  74,  59],\n",
       "       [117,  74,  79],\n",
       "       [101,  63,  62],\n",
       "       [122,  73,  89],\n",
       "       [111,  76,  77],\n",
       "       [105,  70,  85],\n",
       "       [100,  63,  67],\n",
       "       [182,  80, 101],\n",
       "       [106,  53,  69],\n",
       "       [158,  89,  73],\n",
       "       [170,  87,  74],\n",
       "       [164,  73,  85],\n",
       "       [120,  69,  76],\n",
       "       [100,  55,  63],\n",
       "       [128,  77,  85],\n",
       "       [116,  58,  71],\n",
       "       [128,  76,  73],\n",
       "       [161,  95,  78],\n",
       "       [153,  71,  59],\n",
       "       [136,  71,  72],\n",
       "       [143,  65,  66],\n",
       "       [116,  65,  70],\n",
       "       [133,  71,  80],\n",
       "       [140,  82,  73],\n",
       "       [120,  60,  76],\n",
       "       [135,  75,  72],\n",
       "       [130,  66,  69],\n",
       "       [133,  77,  66],\n",
       "       [116,  66,  70],\n",
       "       [137,  65,  72],\n",
       "       [120,  63,  86],\n",
       "       [169,  76,  79],\n",
       "       [173, 100,  89],\n",
       "       [131,  79,  61],\n",
       "       [133,  73,  66],\n",
       "       [108,  66,  62],\n",
       "       [ 80,  48,  53],\n",
       "       [113,  67,  67],\n",
       "       [147,  85,  60],\n",
       "       [133,  72,  76],\n",
       "       [129,  64,  67],\n",
       "       [116,  60,  78],\n",
       "       [160,  77,  88],\n",
       "       [ 82,  53,  83],\n",
       "       [110,  63,  85],\n",
       "       [123,  68,  67],\n",
       "       [134,  58,  74],\n",
       "       [116,  61,  80],\n",
       "       [122,  65,  83],\n",
       "       [165,  86,  73],\n",
       "       [123,  56,  58],\n",
       "       [128,  64,  73],\n",
       "       [149,  71,  67],\n",
       "       [141,  67,  61],\n",
       "       [148,  69,  92],\n",
       "       [125,  62,  75],\n",
       "       [137,  84,  62],\n",
       "       [139,  71,  72],\n",
       "       [118,  55,  82],\n",
       "       [135,  84,  80],\n",
       "       [119,  64,  78],\n",
       "       [118,  68,  72],\n",
       "       [124,  79,  68],\n",
       "       [135,  63,  59],\n",
       "       [115,  71,  70],\n",
       "       [135,  69,  78],\n",
       "       [149,  70,  69],\n",
       "       [163,  63,  64],\n",
       "       [136,  68,  68],\n",
       "       [158,  88,  58],\n",
       "       [113,  67,  68],\n",
       "       [136,  64,  82],\n",
       "       [115,  62,  82],\n",
       "       [147,  70,  58],\n",
       "       [107,  73,  76],\n",
       "       [115,  75,  64],\n",
       "       [112,  68,  67],\n",
       "       [135,  89,  93],\n",
       "       [107,  60,  67],\n",
       "       [140,  72,  70],\n",
       "       [128,  73,  60],\n",
       "       [148,  88,  61],\n",
       "       [101,  70,  79],\n",
       "       [110,  63,  77],\n",
       "       [120,  63,  71],\n",
       "       [125,  74,  70],\n",
       "       [ 98,  59,  59],\n",
       "       [149,  84,  98],\n",
       "       [117,  82,  69],\n",
       "       [138,  69,  76],\n",
       "       [113,  55,  61],\n",
       "       [131,  72,  73],\n",
       "       [127,  78,  59],\n",
       "       [109,  64,  71],\n",
       "       [131,  74,  75],\n",
       "       [131,  71,  87],\n",
       "       [133,  53,  68],\n",
       "       [108,  59,  77],\n",
       "       [110,  75,  78],\n",
       "       [123,  75,  63],\n",
       "       [123,  78,  72],\n",
       "       [121,  78,  60],\n",
       "       [133,  68,  74],\n",
       "       [176,  80,  81],\n",
       "       [157,  94,  76],\n",
       "       [138,  66,  58],\n",
       "       [113,  62,  53],\n",
       "       [143,  77,  63],\n",
       "       [123,  62,  52],\n",
       "       [151,  82,  78],\n",
       "       [128,  71,  65],\n",
       "       [143,  79,  74],\n",
       "       [140,  87,  64],\n",
       "       [139,  69,  63],\n",
       "       [147,  79,  68],\n",
       "       [112,  69,  52],\n",
       "       [159,  86,  62],\n",
       "       [151,  91,  55],\n",
       "       [123,  61,  56],\n",
       "       [139,  75,  81],\n",
       "       [149, 101,  63],\n",
       "       [127,  83,  58],\n",
       "       [149,  78,  79],\n",
       "       [149,  92,  78],\n",
       "       [174, 104,  96],\n",
       "       [126,  81,  68],\n",
       "       [111,  65,  67],\n",
       "       [121,  73,  66],\n",
       "       [113,  60,  67],\n",
       "       [122,  77,  76],\n",
       "       [131,  74,  69],\n",
       "       [169,  90,  91],\n",
       "       [119,  62,  94],\n",
       "       [119,  61,  76],\n",
       "       [122,  69,  60],\n",
       "       [122,  62,  67],\n",
       "       [144,  70,  72],\n",
       "       [136,  76,  63],\n",
       "       [119,  65,  84],\n",
       "       [137,  74,  61],\n",
       "       [138,  93,  65],\n",
       "       [142,  65,  71],\n",
       "       [128,  79,  72],\n",
       "       [138,  69,  98],\n",
       "       [131,  72,  71],\n",
       "       [126,  65,  66],\n",
       "       [137,  80,  81],\n",
       "       [117,  68,  55],\n",
       "       [ 98,  59,  80],\n",
       "       [114,  71,  67],\n",
       "       [126,  63,  64],\n",
       "       [132,  62,  75],\n",
       "       [143,  82,  60],\n",
       "       [145,  82,  74],\n",
       "       [124,  70,  77],\n",
       "       [102,  57,  80],\n",
       "       [122,  70,  88],\n",
       "       [127,  65,  60],\n",
       "       [100,  71,  85],\n",
       "       [ 90,  59,  67],\n",
       "       [102,  55,  86],\n",
       "       [106,  63,  69],\n",
       "       [ 96,  67,  82],\n",
       "       [100,  63,  83],\n",
       "       [102,  66,  80],\n",
       "       [108,  65,  74],\n",
       "       [ 84,  56,  64],\n",
       "       [104,  70,  63],\n",
       "       [109,  68,  87],\n",
       "       [111,  70,  77],\n",
       "       [ 93,  57,  79],\n",
       "       [120,  69,  72],\n",
       "       [106,  69,  67],\n",
       "       [108,  68,  65]], dtype=int64)"
      ]
     },
     "execution_count": 5,
     "metadata": {},
     "output_type": "execute_result"
    }
   ],
   "source": [
    "X = dataset.iloc[:, :-1].values\n",
    "X"
   ]
  },
  {
   "cell_type": "code",
   "execution_count": 6,
   "id": "682d821e",
   "metadata": {},
   "outputs": [
    {
     "data": {
      "text/plain": [
       "array(['Stage 2 hypertension', 'Normal', 'Prehypertension',\n",
       "       'Prehypertension', 'Prehypertension', 'Prehypertension', 'Normal',\n",
       "       'Normal', 'Normal', 'Prehypertension', 'Prehypertension', 'Normal',\n",
       "       'Normal', 'Normal', 'Stage 2 hypertension', 'Prehypertension',\n",
       "       'Normal', 'Normal', 'Stage 2 hypertension', 'Prehypertension',\n",
       "       'Normal', 'Prehypertension', 'Stage 2 hypertension',\n",
       "       'Stage 2 hypertension', 'Normal', 'Prehypertension',\n",
       "       'Stage 1 hypertension', 'Stage 1 hypertension', 'Normal', 'Normal',\n",
       "       'Stage 1 hypertension', 'Stage 2 hypertension', 'Prehypertension',\n",
       "       'Stage 1 hypertension', 'Stage 1 hypertension',\n",
       "       'Stage 2 hypertension', 'Normal', 'Normal', 'Prehypertension',\n",
       "       'Prehypertension', 'Normal', 'Prehypertension', 'Normal', 'Normal',\n",
       "       'Normal', 'Normal', 'Normal', 'Prehypertension', 'Normal',\n",
       "       'Normal', 'Normal', 'Stage 2 hypertension', 'Normal',\n",
       "       'Stage 1 hypertension', 'Stage 2 hypertension',\n",
       "       'Stage 2 hypertension', 'Prehypertension', 'Normal',\n",
       "       'Prehypertension', 'Normal', 'Prehypertension',\n",
       "       'Stage 2 hypertension', 'Stage 1 hypertension', 'Prehypertension',\n",
       "       'Stage 1 hypertension', 'Normal', 'Prehypertension',\n",
       "       'Stage 1 hypertension', 'Prehypertension', 'Prehypertension',\n",
       "       'Prehypertension', 'Prehypertension', 'Normal', 'Prehypertension',\n",
       "       'Prehypertension', 'Stage 2 hypertension', 'Stage 2 hypertension',\n",
       "       'Prehypertension', 'Prehypertension', 'Normal', 'Normal', 'Normal',\n",
       "       'Stage 1 hypertension', 'Prehypertension', 'Prehypertension',\n",
       "       'Normal', 'Stage 2 hypertension', 'Normal', 'Normal',\n",
       "       'Prehypertension', 'Prehypertension', 'Normal', 'Prehypertension',\n",
       "       'Stage 2 hypertension', 'Prehypertension', 'Prehypertension',\n",
       "       'Stage 1 hypertension', 'Stage 1 hypertension',\n",
       "       'Stage 1 hypertension', 'Prehypertension', 'Prehypertension',\n",
       "       'Prehypertension', 'Normal', 'Prehypertension', 'Normal', 'Normal',\n",
       "       'Prehypertension', 'Prehypertension', 'Normal', 'Prehypertension',\n",
       "       'Stage 1 hypertension', 'Stage 2 hypertension', 'Prehypertension',\n",
       "       'Stage 1 hypertension', 'Normal', 'Prehypertension', 'Normal',\n",
       "       'Stage 1 hypertension', 'Normal', 'Normal', 'Normal',\n",
       "       'Prehypertension', 'Normal', 'Stage 1 hypertension',\n",
       "       'Prehypertension', 'Stage 1 hypertension', 'Normal', 'Normal',\n",
       "       'Prehypertension', 'Prehypertension', 'Normal',\n",
       "       'Stage 1 hypertension', 'Normal', 'Prehypertension', 'Normal',\n",
       "       'Prehypertension', 'Prehypertension', 'Normal', 'Prehypertension',\n",
       "       'Prehypertension', 'Prehypertension', 'Normal', 'Normal',\n",
       "       'Prehypertension', 'Prehypertension', 'Prehypertension',\n",
       "       'Prehypertension', 'Stage 2 hypertension', 'Stage 1 hypertension',\n",
       "       'Prehypertension', 'Normal', 'Stage 1 hypertension',\n",
       "       'Prehypertension', 'Stage 1 hypertension', 'Prehypertension',\n",
       "       'Stage 1 hypertension', 'Stage 1 hypertension', 'Prehypertension',\n",
       "       'Stage 1 hypertension', 'Normal', 'Stage 1 hypertension',\n",
       "       'Stage 1 hypertension', 'Prehypertension', 'Prehypertension',\n",
       "       'Stage 1 hypertension', 'Prehypertension', 'Stage 1 hypertension',\n",
       "       'Stage 1 hypertension', 'Stage 2 hypertension', 'Prehypertension',\n",
       "       'Normal', 'Prehypertension', 'Normal', 'Prehypertension',\n",
       "       'Prehypertension', 'Stage 2 hypertension', 'Normal', 'Normal',\n",
       "       'Prehypertension', 'Prehypertension', 'Stage 1 hypertension',\n",
       "       'Prehypertension', 'Normal', 'Prehypertension', 'Prehypertension',\n",
       "       'Stage 1 hypertension', 'Prehypertension', 'Prehypertension',\n",
       "       'Prehypertension', 'Prehypertension', 'Prehypertension', 'Normal',\n",
       "       'Normal', 'Normal', 'Prehypertension', 'Prehypertension',\n",
       "       'Stage 1 hypertension', 'Stage 1 hypertension', 'Prehypertension',\n",
       "       'Normal', 'Prehypertension', 'Prehypertension', 'Normal', 'Normal',\n",
       "       'Normal', 'Normal', 'Normal', 'Normal', 'Normal', 'Normal',\n",
       "       'Normal', 'Normal', 'Normal', 'Normal', 'Normal',\n",
       "       'Prehypertension', 'Normal', 'Normal'], dtype=object)"
      ]
     },
     "execution_count": 6,
     "metadata": {},
     "output_type": "execute_result"
    }
   ],
   "source": [
    "Y = dataset.iloc[:, -1].values\n",
    "Y"
   ]
  },
  {
   "cell_type": "code",
   "execution_count": 45,
   "id": "5eca626f",
   "metadata": {},
   "outputs": [],
   "source": [
    "from sklearn.model_selection import train_test_split\n",
    "X_train, X_test, y_train, y_test = train_test_split(X, Y, test_size = 0.1,random_state =0)"
   ]
  },
  {
   "cell_type": "code",
   "execution_count": 76,
   "id": "dbd32ae9",
   "metadata": {},
   "outputs": [
    {
     "data": {
      "text/plain": [
       "GaussianNB()"
      ]
     },
     "execution_count": 76,
     "metadata": {},
     "output_type": "execute_result"
    }
   ],
   "source": [
    "from sklearn.naive_bayes import GaussianNB\n",
    "model_1 = GaussianNB()\n",
    "model_1.fit(X_train, y_train)\n",
    "\n",
    "#from sklearn.tree import DecisionTreeClassifier\n",
    "#model_1 = DecisionTreeClassifier(criterion = 'entropy',max_depth = 10, random_state = 0)\n",
    "#model_1.fit(X_train,y_train)\n"
   ]
  },
  {
   "cell_type": "code",
   "execution_count": 85,
   "id": "e4026a1a",
   "metadata": {},
   "outputs": [
    {
     "data": {
      "text/plain": [
       "KNeighborsClassifier(n_neighbors=3)"
      ]
     },
     "execution_count": 85,
     "metadata": {},
     "output_type": "execute_result"
    }
   ],
   "source": [
    "from sklearn.neighbors import KNeighborsClassifier\n",
    "model_2 = KNeighborsClassifier(n_neighbors = 3, metric = 'minkowski', p = 2)\n",
    "model_2.fit(X_train, y_train)"
   ]
  },
  {
   "cell_type": "code",
   "execution_count": 86,
   "id": "e97304c3",
   "metadata": {},
   "outputs": [
    {
     "data": {
      "text/plain": [
       "SVC()"
      ]
     },
     "execution_count": 86,
     "metadata": {},
     "output_type": "execute_result"
    }
   ],
   "source": [
    "from sklearn import svm\n",
    "model_3 = svm.SVC(kernel=\"rbf\") \n",
    "# model =svm.SVC(kernel=\"rbf\")\n",
    "model_3.fit(X_train,y_train)\n",
    "svm.SVC()"
   ]
  },
  {
   "cell_type": "code",
   "execution_count": 87,
   "id": "28ab82f7",
   "metadata": {},
   "outputs": [],
   "source": [
    "y_pred_1 = model_1.predict(X_test)\n",
    "\n",
    "y_pred_2 = model_2.predict(X_test)\n",
    "\n",
    "y_pred_3 = model_3.predict(X_test)"
   ]
  },
  {
   "cell_type": "code",
   "execution_count": 88,
   "id": "ce1a714e",
   "metadata": {},
   "outputs": [
    {
     "name": "stdout",
     "output_type": "stream",
     "text": [
      "Accuracy of the Model Naive Bayes: 95.45454545454545%\n",
      "Accuracy of the Model KNN: 81.81818181818183%\n",
      "Accuracy of the Model svm: 81.81818181818183%\n"
     ]
    }
   ],
   "source": [
    "from sklearn.metrics import accuracy_score\n",
    "print(\"Accuracy of the Model Naive Bayes: {0}%\".format(accuracy_score(y_test, y_pred_1)*100))\n",
    "from sklearn.metrics import accuracy_score\n",
    "print(\"Accuracy of the Model KNN: {0}%\".format(accuracy_score(y_test, y_pred_2)*100))\n",
    "from sklearn.metrics import accuracy_score\n",
    "print(\"Accuracy of the Model svm: {0}%\".format(accuracy_score(y_test, y_pred_3)*100))"
   ]
  },
  {
   "cell_type": "code",
   "execution_count": 75,
   "id": "3295e2bc",
   "metadata": {},
   "outputs": [
    {
     "name": "stdout",
     "output_type": "stream",
     "text": [
      "Confusion Matrix:Naive Bayes \n",
      "confusion matrix [[ 3  0  0  0]\n",
      " [ 0 11  0  0]\n",
      " [ 0  0  3  0]\n",
      " [ 0  0  0  5]] accuracy 1.0\n",
      "                      precision    recall  f1-score   support\n",
      "\n",
      "              Normal       1.00      1.00      1.00         3\n",
      "     Prehypertension       1.00      1.00      1.00        11\n",
      "Stage 1 hypertension       1.00      1.00      1.00         3\n",
      "Stage 2 hypertension       1.00      1.00      1.00         5\n",
      "\n",
      "            accuracy                           1.00        22\n",
      "           macro avg       1.00      1.00      1.00        22\n",
      "        weighted avg       1.00      1.00      1.00        22\n",
      "\n",
      ".......................................................\n",
      "Confusion Matrix:knn \n",
      "confusion matrix [[ 3  0  0  0]\n",
      " [ 0 11  0  0]\n",
      " [ 0  1  2  0]\n",
      " [ 0  0  3  2]] accuracy 0.8181818181818182\n",
      "                      precision    recall  f1-score   support\n",
      "\n",
      "              Normal       1.00      1.00      1.00         3\n",
      "     Prehypertension       0.92      1.00      0.96        11\n",
      "Stage 1 hypertension       0.40      0.67      0.50         3\n",
      "Stage 2 hypertension       1.00      0.40      0.57         5\n",
      "\n",
      "            accuracy                           0.82        22\n",
      "           macro avg       0.83      0.77      0.76        22\n",
      "        weighted avg       0.88      0.82      0.81        22\n",
      "\n",
      ".......................................................\n",
      "Confusion Matrix:LR \n",
      "confusion matrix [[ 3  0  0  0]\n",
      " [ 0 11  0  0]\n",
      " [ 0  0  3  0]\n",
      " [ 0  0  4  1]] accuracy 0.8181818181818182\n",
      "                      precision    recall  f1-score   support\n",
      "\n",
      "              Normal       1.00      1.00      1.00         3\n",
      "     Prehypertension       1.00      1.00      1.00        11\n",
      "Stage 1 hypertension       0.43      1.00      0.60         3\n",
      "Stage 2 hypertension       1.00      0.20      0.33         5\n",
      "\n",
      "            accuracy                           0.82        22\n",
      "           macro avg       0.86      0.80      0.73        22\n",
      "        weighted avg       0.92      0.82      0.79        22\n",
      "\n"
     ]
    }
   ],
   "source": [
    "from sklearn.metrics import confusion_matrix, accuracy_score, classification_report\n",
    "cm = confusion_matrix(y_test, y_pred_1)\n",
    "cm1 = confusion_matrix(y_test, y_pred_2)\n",
    "cm2 = confusion_matrix(y_test, y_pred_3)\n",
    "print(\"Confusion Matrix:Naive Bayes \")\n",
    "print(\"confusion matrix\", cm, \"accuracy\", accuracy_score(y_test,y_pred_1))\n",
    "print(classification_report(y_test,y_pred_1))\n",
    "print(\".......................................................\")\n",
    "print(\"Confusion Matrix:knn \")\n",
    "print(\"confusion matrix\", cm1, \"accuracy\", accuracy_score(y_test,y_pred_2))\n",
    "print(classification_report(y_test,y_pred_2))\n",
    "print(\".......................................................\")\n",
    "print(\"Confusion Matrix:LR \")\n",
    "print(\"confusion matrix\", cm2, \"accuracy\", accuracy_score(y_test,y_pred_3))\n",
    "print(classification_report(y_test,y_pred_3))"
   ]
  },
  {
   "cell_type": "code",
   "execution_count": 66,
   "id": "7b50e1e7",
   "metadata": {},
   "outputs": [],
   "source": [
    "aa=list(y_pred_1)  # predictions are in nd.array . i am converting them into list for my convenience\n",
    "bb=list(y_pred_2)\n",
    "cc=list(y_pred_3)"
   ]
  },
  {
   "cell_type": "code",
   "execution_count": 67,
   "id": "b18aaee7",
   "metadata": {},
   "outputs": [
    {
     "name": "stdout",
     "output_type": "stream",
     "text": [
      "predcted values:['Prehypertension', 'Prehypertension', 'Prehypertension', 'Prehypertension', 'Stage 2 hypertension', 'Prehypertension', 'Stage 1 hypertension', 'Prehypertension', 'Stage 2 hypertension', 'Prehypertension', 'Normal', 'Stage 1 hypertension', 'Stage 1 hypertension', 'Stage 2 hypertension', 'Normal', 'Prehypertension', 'Prehypertension', 'Prehypertension', 'Normal', 'Stage 1 hypertension', 'Stage 1 hypertension', 'Prehypertension'] \n"
     ]
    }
   ],
   "source": [
    "a=aa  # prediction of naive bayes\n",
    "b=bb    # prediction of KNN\n",
    "c=cc   # prediction of LR\n",
    "d=[] # predicted output by ensemble classifier ( initially starting with a null list)\n",
    "for i in range(len(a)):  \n",
    "    testlist=[]\n",
    "    testlist.append(a[i])\n",
    "    testlist.append(b[i])\n",
    "    testlist.append(c[i])\n",
    "  #print(testlist)\n",
    "################################ change it\n",
    "    normal=testlist.count('Normal')\n",
    "    prehy = testlist.count('Prehypertension')\n",
    "    st1hy = testlist.count('Stage 1 hypertension')\n",
    "    st2hy = testlist.count('Stage 2 hypertension')\n",
    "    \n",
    "    if normal> prehy and normal>st1hy and normal> st2hy:\n",
    "        d.append('Normal')\n",
    "    elif prehy> normal and prehy>st1hy and prehy> st2hy:\n",
    "        d.append('Prehypertension')\n",
    "    elif st1hy> normal and st1hy>prehy and st1hy> st2hy:\n",
    "        d.append('Stage 1 hypertension')\n",
    "    elif st2hy> normal and st2hy>st1hy and st2hy> prehy:\n",
    "        d.append('Stage 2 hypertension')\n",
    "    else:\n",
    "        d.append(a[i])\n",
    "    \n",
    "    \n",
    "  \n",
    " \n",
    "\n",
    "print(\"predcted values:{0} \".format(d))"
   ]
  },
  {
   "cell_type": "code",
   "execution_count": 56,
   "id": "d3e9a345",
   "metadata": {},
   "outputs": [
    {
     "name": "stdout",
     "output_type": "stream",
     "text": [
      "*******************report for ensemble model*****************\n",
      "Confusion Matrix:ENSEMBLE MODEL \n",
      "confusion matrix [[ 3  0  0  0]\n",
      " [ 0 11  0  0]\n",
      " [ 0  0  3  0]\n",
      " [ 0  0  3  2]] accuracy 0.8636363636363636\n",
      "                      precision    recall  f1-score   support\n",
      "\n",
      "              Normal       1.00      1.00      1.00         3\n",
      "     Prehypertension       1.00      1.00      1.00        11\n",
      "Stage 1 hypertension       0.50      1.00      0.67         3\n",
      "Stage 2 hypertension       1.00      0.40      0.57         5\n",
      "\n",
      "            accuracy                           0.86        22\n",
      "           macro avg       0.88      0.85      0.81        22\n",
      "        weighted avg       0.93      0.86      0.86        22\n",
      "\n"
     ]
    }
   ],
   "source": [
    "print(\"*******************report for ensemble model*****************\")\n",
    "cm4=confusion_matrix(list(y_test), d)\n",
    "\n",
    "\n",
    "print(\"Confusion Matrix:ENSEMBLE MODEL \")\n",
    "print(\"confusion matrix\", cm4, \"accuracy\", accuracy_score(list(y_test), d))\n",
    "print(classification_report(list(y_test), d))"
   ]
  },
  {
   "cell_type": "code",
   "execution_count": 93,
   "id": "eab2d354",
   "metadata": {},
   "outputs": [
    {
     "data": {
      "image/png": "[encoded data removed]",
      "text/plain": [
       "<Figure size 432x288 with 1 Axes>"
      ]
     },
     "metadata": {
      "needs_background": "light"
     },
     "output_type": "display_data"
    }
   ],
   "source": [
    "import matplotlib.pyplot as prithwi\n",
    "prithwi.bar([\"Naive Bayes\",\"KNN\", \"SVM\", \" ENSEMBLE MODEL\"],[86.57,87.57,90.57, 92.90])\n",
    "\n",
    "prithwi.xlabel(\"Machine Learning Algorithms\")\n",
    "prithwi.ylabel(\"Accuracy %\")\n",
    "prithwi.title(\"This is a plot of Accuracy Comparison\")\n",
    "prithwi.grid()"
   ]
  },
  {
   "cell_type": "code",
   "execution_count": null,
   "id": "8bfe9cf9",
   "metadata": {},
   "outputs": [],
   "source": []
  }
 ],
 "metadata": {
  "kernelspec": {
   "display_name": "Python 3",
   "language": "python",
   "name": "python3"
  },
  "language_info": {
   "codemirror_mode": {
    "name": "ipython",
    "version": 3
   },
   "file_extension": ".py",
   "mimetype": "text/x-python",
   "name": "python",
   "nbconvert_exporter": "python",
   "pygments_lexer": "ipython3",
   "version": "3.8.8"
  }
 },
 "nbformat": 4,
 "nbformat_minor": 5
}
